{
 "cells": [
  {
   "cell_type": "markdown",
   "id": "d9d036c6",
   "metadata": {},
   "source": [
    "# Problemas de prueba de hipótesis"
   ]
  },
  {
   "cell_type": "markdown",
   "id": "d157c4db",
   "metadata": {},
   "source": [
    "## Ejercicio 1\n",
    "\n",
    "Usted es un nutricionista que investiga dos tipos diferentes de dietas para ver si existe una diferencia significativa en la pérdida de peso después de un mes. Eliges dos grupos aleatorios de personas; un grupo sigue la primera dieta y el otro sigue la segunda. Al final del mes, se registra la pérdida de peso (en kg) de cada persona:\n",
    "\n",
    "| Diet 1 | Diet 2 |\n",
    "|:-------|:-------|\n",
    "| 2.0 | 3.0 |\n",
    "| 2.5 | 3.2 |\n",
    "| 3.0 | 3.1 |\n",
    "| 2.8 | 2.9 |\n",
    "| 2.3 | 2.8 |\n",
    "| 2.7 | 3.0 |\n",
    "| 2.5 | 3.2 |\n",
    "\n",
    "Con estos datos se busca responder a la siguiente pregunta: ¿Existe una diferencia significativa en la pérdida de peso promedio entre las personas que siguieron la primera dieta y las que siguieron la segunda dieta?\n",
    "\n",
    "Para sacar conclusiones, siga los siguientes puntos:\n",
    "\n",
    "-Enunciar la hipótesis: hipótesis nula y alternativa.\n",
    "-Realizar la prueba para comprobar la hipótesis. Puede utilizar la prueba t de Student.\n",
    "-Analizar las conclusiones."
   ]
  },
  {
   "cell_type": "code",
   "execution_count": 1,
   "id": "8e0f3cf0",
   "metadata": {},
   "outputs": [
    {
     "name": "stdout",
     "output_type": "stream",
     "text": [
      "H₀: La hipótesis nula es que ambas dietas no presentan diferencia en la pérdida de peso promedio.\n",
      "H₁: La hipótesis alternativa es que las dietas presentan una diferencia significativa en la pérdida de peso promedio.\n",
      "\n",
      "La evidencia de los datos es suficientemente fuerte como para rechazar la hipótesis nula H₀, es decir, respaldan la Hipótesis alternativa (H₁).\n",
      "Es muy improbable que la evidencia observada se deba al azar (p-valor=0.004083270191713912).\n",
      "Por tanto, las dietas presentan una diferencia significativa en la pérdida de peso promedio.\n"
     ]
    }
   ],
   "source": [
    "# TODO\n",
    "from scipy import stats\n",
    "import numpy as np\n",
    "import statsmodels.api as sm\n",
    "\n",
    "# Enunciar hipótesis\n",
    "print('H₀: La hipótesis nula es que ambas dietas no presentan diferencia en la pérdida de peso promedio.')\n",
    "print('H₁: La hipótesis alternativa es que las dietas presentan una diferencia significativa en la pérdida de peso promedio.\\n')\n",
    "\n",
    "# Datos\n",
    "dieta_1 = [2.0, 2.5, 3.0, 2.8, 2.3, 2.7, 2.5]\n",
    "dieta_2 = [3.0, 3.2, 3.1, 2.9, 2.8, 3.0, 3.2]\n",
    "\n",
    "# Prueba t-Student\n",
    "p_valor = stats.ttest_ind(dieta_1, dieta_2).pvalue\n",
    "alpha = 0.05\n",
    "\n",
    "# Conclusiones\n",
    "if p_valor < alpha:\n",
    "    print(\"La evidencia de los datos es suficientemente fuerte como para rechazar la hipótesis nula H₀, es decir, respaldan la Hipótesis alternativa (H₁).\")\n",
    "    print(f\"Es muy improbable que la evidencia observada se deba al azar (p-valor={p_valor}).\")\n",
    "    print('Por tanto, las dietas presentan una diferencia significativa en la pérdida de peso promedio.')\n",
    "else:\n",
    "    print(\"No hay suficiente evidencia para rechazar la hipótesis nula H₀, es decir, no hay suficiente evidencia para afirmar que la hipótesis nula es falsa.\")\n",
    "    print(\"Esto no implica que aceptemos H₀, ya que la ausencia de evidencia no es lo mismo que evidencia en su favor.\")\n",
    "    print(f\"Es muy probable que la evidencia observada se deba al azar (p-valor={p_valor}).\")\n",
    "    print('Por tanto, es posible que ambas dietas no presenten una diferencia significativa en la pérdida de peso promedio.')\n"
   ]
  },
  {
   "cell_type": "markdown",
   "id": "f432e18e",
   "metadata": {},
   "source": [
    "## ANOVA\n",
    "\n",
    "**ANOVA** (*Analysis of Variance - Análisis de variación*) Es una técnica estadística utilizada para comparar las medidas de dos o más grupos. La idea detrás de ANOVA es descomponer la variabilidad total de los datos en dos componentes: variabilidad entre grupos y variabilidad dentro de los grupos:\n",
    "\n",
    "- **Variabilidad entre grupos**: Esta variabilidad se refiere a las diferencias entre las medias del grupo. Si esta variabilidad es considerablemente mayor que la variabilidad dentro del grupo, podría ser una indicación de que al menos una de las medias del grupo es diferente.\n",
    "- **Variabilidad dentro del grupo**: Esta variabilidad se refiere a la dispersión de los datos dentro de cada grupo. Si todos los grupos tienen una variabilidad similar, entonces cualquier diferencia notable en las medias de los grupos podría considerarse significativa.\n",
    "\n",
    "Las hipótesis en ANOVA suelen incluir:\n",
    "\n",
    "- **Hipótesis nula** ($H₀$): Las medias de todos los grupos son iguales.\n",
    "- **Hipótesis alternativa** ($H₁$): Al menos una de las medias del grupo es diferente.\n",
    "\n",
    "Si el resultado de la prueba ANOVA es significativo (por ejemplo, un valor p inferior a un umbral como 0,05), esto sugiere que al menos la media de un grupo es diferente."
   ]
  },
  {
   "cell_type": "markdown",
   "id": "fc5f3721",
   "metadata": {},
   "source": [
    "## Ejercicio 2\n",
    "\n",
    "Un agricultor decide probar tres tipos diferentes de fertilizantes para determinar si alguno es superior en términos de producción de maíz. El agricultor planta maíz en 15 parcelas idénticas y utiliza los tres fertilizantes (5 parcelas para cada tipo). Al final de la temporada mide el rendimiento de maíz (en kg) de cada parcela, con el siguiente resultado:\n",
    "\n",
    "| Fertilizante 1 | Fertilizante 2 | Fertilizante 3 |\n",
    "|:-------------|:-------------|:-------------|\n",
    "| 20 | 22 | 24 |\n",
    "| 21 | 21 | 23 |\n",
    "| 20 | 23 | 22 |\n",
    "| 19 | 22 | 23 |\n",
    "| 20 | 21 | 24 |\n",
    "\n",
    "Con estos datos busca responder la siguiente pregunta: ¿Existe una diferencia significativa en el rendimiento promedio del maíz entre los tres tipos de fertilizantes?\n",
    "\n",
    "Para ayudarte, sigue los siguientes puntos:\n",
    "\n",
    "-Enunciar la hipótesis: hipótesis nula y alternativa.\n",
    "-Realizar la prueba ANOVA.\n",
    "-Analizar las conclusiones.\n",
    "-Si un fertilizante es mejor que otro, ¿cómo podemos saberlo?"
   ]
  },
  {
   "cell_type": "code",
   "execution_count": 8,
   "id": "eecad0ca",
   "metadata": {},
   "outputs": [
    {
     "name": "stdout",
     "output_type": "stream",
     "text": [
      "Hipótesis nula (H₀): Las medias del rendimiento de todos los fertilizantes son iguales.\n",
      "Hipótesis alternativa (H₁): Al menos una de las media de los fertilizantes es diferente.\n",
      "\n",
      "La evidencia de los datos es suficientemente fuerte como para rechazar la hipótesis nula H₀, es decir, respaldan la Hipótesis alternativa (H₁).\n",
      "Es muy improbable que la evidencia observada se deba al azar (p-valor=0.00014047824793190475).\n",
      "Por tanto, existe una diferencia en el rendimiento de, al menos, uno de los fertilizantes.\n",
      "Multiple Comparison of Means - Tukey HSD, FWER=0.05\n",
      "==================================================\n",
      "group1 group2 meandiff p-adj  lower  upper  reject\n",
      "--------------------------------------------------\n",
      "    F1     F2      1.8 0.0099 0.4572 3.1428   True\n",
      "    F1     F3      3.2 0.0001 1.8572 4.5428   True\n",
      "    F2     F3      1.4 0.0409 0.0572 2.7428   True\n",
      "--------------------------------------------------\n"
     ]
    }
   ],
   "source": [
    "# TODO\n",
    "from statsmodels.stats.multicomp import pairwise_tukeyhsd\n",
    "\n",
    "# Enunciar hipótesis\n",
    "print('Hipótesis nula (H₀): Las medias del rendimiento de todos los fertilizantes son iguales.')\n",
    "print('Hipótesis alternativa (H₁): Al menos una de las media de los fertilizantes es diferente.\\n')\n",
    "\n",
    "# Datos\n",
    "fertiliz_1 = [20, 21, 20, 19, 20]\n",
    "fertiliz_2 = [22, 21, 23, 22, 21]\n",
    "fertiliz_3 = [24, 23, 22, 23, 24]\n",
    "\n",
    "\n",
    "#Prueba ANOVA\n",
    "p_valor = stats.f_oneway(fertiliz_1, fertiliz_2, fertiliz_3).pvalue\n",
    "alpha = 0.05\n",
    "\n",
    "# Conclusiones\n",
    "if p_valor < alpha:\n",
    "    print(\"La evidencia de los datos es suficientemente fuerte como para rechazar la hipótesis nula H₀, es decir, respaldan la Hipótesis alternativa (H₁).\")\n",
    "    print(f\"Es muy improbable que la evidencia observada se deba al azar (p-valor={p_valor}).\")\n",
    "    print('Por tanto, existe una diferencia en el rendimiento de, al menos, uno de los fertilizantes.')\n",
    "else:\n",
    "    print(\"No hay suficiente evidencia para rechazar la hipótesis nula H₀, es decir, no hay suficiente evidencia para afirmar que la hipótesis nula es falsa.\")\n",
    "    print(\"Esto no implica que aceptemos H₀, ya que la ausencia de evidencia no es lo mismo que evidencia en su favor.\")\n",
    "    print(f\"Es muy probable que la evidencia observada se deba al azar (p-valor={p_valor}).\")\n",
    "    print('Por tanto, no existe una diferencia en el rendimiento medio de los fertilizantes.\\n')\n",
    "\n",
    "# Qué fertilizante es mejor?\n",
    "concat = np.concatenate([fertiliz_1, fertiliz_2, fertiliz_3])\n",
    "grupos = ['F1', 'F1', 'F1', 'F1', 'F1', 'F2', 'F2', 'F2', 'F2', 'F2' ,'F3', 'F3', 'F3', 'F3', 'F3']\n",
    "\n",
    "resultado = pairwise_tukeyhsd(concat, grupos, 0.05)\n",
    "print(resultado)"
   ]
  },
  {
   "cell_type": "markdown",
   "id": "a5de2bae",
   "metadata": {},
   "source": [
    "Observando la diferencia en las medias de los 3 fertilizantes, se puede concluir que el tercer fertilizante es el que mayor rendimiento promedio presenta, seguido del segundo fertilizante y siendo el que menor media tiene el primer fertilizante."
   ]
  }
 ],
 "metadata": {
  "kernelspec": {
   "display_name": "Python 3",
   "language": "python",
   "name": "python3"
  },
  "language_info": {
   "codemirror_mode": {
    "name": "ipython",
    "version": 3
   },
   "file_extension": ".py",
   "mimetype": "text/x-python",
   "name": "python",
   "nbconvert_exporter": "python",
   "pygments_lexer": "ipython3",
   "version": "3.11.4"
  }
 },
 "nbformat": 4,
 "nbformat_minor": 5
}
